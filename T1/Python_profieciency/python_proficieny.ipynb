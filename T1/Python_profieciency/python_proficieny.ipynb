{
 "cells": [
  {
   "cell_type": "markdown",
   "metadata": {},
   "source": [
    "Task 1: Generate a synthetic dataset that matches the description\n",
    "- Participant ID (numeric)\n",
    "- Exercise group (jogging, weightlifting, yoga)\n",
    "- Pre-exercise systolic blood pressure (numeric)\n",
    "- Post-exercise systolic blood pressure (numeric)\n"
   ]
  },
  {
   "cell_type": "code",
   "execution_count": 11,
   "metadata": {},
   "outputs": [
    {
     "name": "stdout",
     "output_type": "stream",
     "text": [
      "    Participant ID Exercise Group  Pre-exercise Systolic BP  \\\n",
      "0                1        jogging                       132   \n",
      "1                2  weightlifting                       103   \n",
      "2                3        jogging                       138   \n",
      "3                4  weightlifting                       129   \n",
      "4                5  weightlifting                       111   \n",
      "..             ...            ...                       ...   \n",
      "95              96        jogging                       143   \n",
      "96              97           yoga                       109   \n",
      "97              98        jogging                       123   \n",
      "98              99  weightlifting                       130   \n",
      "99             100           yoga                       122   \n",
      "\n",
      "    Post-exercise Systolic BP  \n",
      "0                         196  \n",
      "1                         219  \n",
      "2                         219  \n",
      "3                         217  \n",
      "4                         166  \n",
      "..                        ...  \n",
      "95                        165  \n",
      "96                        213  \n",
      "97                        176  \n",
      "98                        168  \n",
      "99                        161  \n",
      "\n",
      "[100 rows x 4 columns]\n"
     ]
    }
   ],
   "source": [
    "# Import libraries \n",
    "import pandas as pd\n",
    "import numpy as np\n",
    "\n",
    "#Set random seed for numpy's pseudo random generator\n",
    "np.random.seed(0)\n",
    "\n",
    "#Define number of participants\n",
    "num_participants = 100\n",
    "\n",
    "# ---------------------- TASK 1 ----------------------------------------\n",
    "#Genereate Participant IDs - using the arange functionality of numpy \n",
    "# Beginning at 1 untoil the number of participant + 1\n",
    "participants_id = np.arange(1, num_participants + 1)\n",
    "\n",
    "#Define exercise groups \n",
    "exercise_groups = np.random.choice(['jogging', 'weightlifting', 'yoga'], num_participants)\n",
    "\n",
    "# Define the range for the pre and post blood pressure\n",
    "# The number for pre and post value were from an estimate of normal heartrates\n",
    "pre_minValue = 90\n",
    "pre_maxValue = 150\n",
    "post_minValue = 160\n",
    "post_maxValue = 220\n",
    "\n",
    "#Generate systolic blood pressure before and after exercise\n",
    "# For post and pre bp it is randomized to take in the min and (max+1) value\n",
    "pre_bp = np.random.randint(pre_minValue, pre_maxValue+1, num_participants)\n",
    "post_bp = np.random.randint(post_minValue, post_maxValue+1, num_participants)\n",
    "\n",
    "# Create a data frame that shows the column for the description given above\n",
    "data = pd.DataFrame({\n",
    "    'Participant ID' : participants_id,\n",
    "    'Exercise Group' : exercise_groups,\n",
    "    'Pre-exercise Systolic BP': pre_bp,\n",
    "    'Post-exercise Systolic BP' : post_bp\n",
    "\n",
    "    })\n",
    "\n",
    "# Export the dataframe to a csv file\n",
    "data.to_csv('exercise_data.csv', index=False)\n",
    "\n",
    "# Display beginning and ends of data. For better readability of data csv is created\n",
    "print(data)\n",
    "\n"
   ]
  },
  {
   "cell_type": "markdown",
   "metadata": {},
   "source": [
    "Task 2: Count Vowels in Exercise Types\n",
    "- Takes in name of the exercise\n",
    "- Returns number of vowels in the string"
   ]
  },
  {
   "cell_type": "code",
   "execution_count": 7,
   "metadata": {},
   "outputs": [
    {
     "name": "stdout",
     "output_type": "stream",
     "text": [
      "YOGA\n",
      "Number of vowels :  2\n"
     ]
    }
   ],
   "source": [
    "# ------------------------- TASK 2 ---------------------------------\n",
    "# Ask users for exercise they want to input\n",
    "inputStr = input ('Enter the exercise: ')\n",
    "\n",
    "# Create a count variable\n",
    "vowel_count = 0\n",
    "\n",
    "# Set vowel for both lower and upper case\n",
    "vowels = set(\"aeiouAEIOU\") \n",
    "\n",
    "# Create a for loop that will iterate in every letter in the inputStr\n",
    "for letter in inputStr:\n",
    "\n",
    "#   Then check if the letter is a vowel then the count increments\n",
    "    if letter in vowels:\n",
    "        vowel_count += 1 \n",
    "\n",
    "# Print out the input string and the number of vowels\n",
    "print(inputStr)\n",
    "print('Number of vowels : ', vowel_count)\n",
    "\n",
    "# When running the code in Jupyter notebook, the input will be asked on the top of the page\n"
   ]
  },
  {
   "cell_type": "markdown",
   "metadata": {},
   "source": [
    "Task 3: Highest Pre-Exercise Blood Pressure by Group\n",
    "- Read the exercise_data.csv \n",
    "- Print the participant with highest pre-exercise systolic blood pressure in each group"
   ]
  },
  {
   "cell_type": "code",
   "execution_count": 12,
   "metadata": {},
   "outputs": [
    {
     "name": "stdout",
     "output_type": "stream",
     "text": [
      "Exercise Group\n",
      "jogging          150\n",
      "weightlifting    149\n",
      "yoga             147\n",
      "Name: Pre-exercise Systolic BP, dtype: int64\n"
     ]
    }
   ],
   "source": [
    "# Import libraries\n",
    "import pandas as pd\n",
    "\n",
    "# Read the dataset from the CSV file\n",
    "exercise = pd.read_csv('exercise_data.csv')\n",
    "\n",
    "# Group the data by Exercise Group\n",
    "grouped = exercise.groupby('Exercise Group')\n",
    "\n",
    "# Use max functionality to check the max number in each Exercise group\n",
    "max_pre_bp = grouped['Pre-exercise Systolic BP'].max()\n",
    "\n",
    "# Print Pre-exercised max blood pressure\n",
    "print(max_pre_bp)"
   ]
  },
  {
   "cell_type": "markdown",
   "metadata": {},
   "source": [
    "Task 4: Extract Even Participant IDs\n",
    "- List Particiapnt ID\n",
    "- Return new list conataining only even-numbered ID"
   ]
  },
  {
   "cell_type": "code",
   "execution_count": 13,
   "metadata": {},
   "outputs": [
    {
     "name": "stdout",
     "output_type": "stream",
     "text": [
      "    Participant ID Exercise Group  Pre-exercise Systolic BP  \\\n",
      "1                2  weightlifting                       103   \n",
      "3                4  weightlifting                       129   \n",
      "5                6           yoga                        99   \n",
      "7                8           yoga                       100   \n",
      "9               10        jogging                       133   \n",
      "11              12           yoga                       113   \n",
      "13              14           yoga                        92   \n",
      "15              16        jogging                       124   \n",
      "17              18  weightlifting                       120   \n",
      "19              20  weightlifting                        93   \n",
      "21              22  weightlifting                       136   \n",
      "23              24        jogging                       110   \n",
      "25              26           yoga                       140   \n",
      "27              28           yoga                       104   \n",
      "29              30  weightlifting                       148   \n",
      "31              32           yoga                       126   \n",
      "33              34  weightlifting                       112   \n",
      "35              36  weightlifting                       130   \n",
      "37              38           yoga                        92   \n",
      "39              40           yoga                       106   \n",
      "41              42        jogging                       144   \n",
      "43              44        jogging                       128   \n",
      "45              46        jogging                       136   \n",
      "47              48  weightlifting                       141   \n",
      "49              50        jogging                       150   \n",
      "51              52  weightlifting                       103   \n",
      "53              54  weightlifting                       114   \n",
      "55              56           yoga                        93   \n",
      "57              58  weightlifting                       124   \n",
      "59              60  weightlifting                       103   \n",
      "61              62           yoga                       130   \n",
      "63              64           yoga                       109   \n",
      "65              66           yoga                        98   \n",
      "67              68        jogging                        92   \n",
      "69              70           yoga                       142   \n",
      "71              72        jogging                       134   \n",
      "73              74        jogging                       122   \n",
      "75              76        jogging                        93   \n",
      "77              78        jogging                       101   \n",
      "79              80           yoga                       112   \n",
      "81              82           yoga                       147   \n",
      "83              84  weightlifting                       101   \n",
      "85              86        jogging                       106   \n",
      "87              88  weightlifting                       119   \n",
      "89              90        jogging                       136   \n",
      "91              92           yoga                       106   \n",
      "93              94  weightlifting                       147   \n",
      "95              96        jogging                       143   \n",
      "97              98        jogging                       123   \n",
      "99             100           yoga                       122   \n",
      "\n",
      "    Post-exercise Systolic BP Parity  \n",
      "1                         219   even  \n",
      "3                         217   even  \n",
      "5                         181   even  \n",
      "7                         173   even  \n",
      "9                         216   even  \n",
      "11                        175   even  \n",
      "13                        178   even  \n",
      "15                        214   even  \n",
      "17                        171   even  \n",
      "19                        207   even  \n",
      "21                        217   even  \n",
      "23                        191   even  \n",
      "25                        204   even  \n",
      "27                        184   even  \n",
      "29                        178   even  \n",
      "31                        163   even  \n",
      "33                        172   even  \n",
      "35                        195   even  \n",
      "37                        165   even  \n",
      "39                        203   even  \n",
      "41                        171   even  \n",
      "43                        180   even  \n",
      "45                        214   even  \n",
      "47                        197   even  \n",
      "49                        207   even  \n",
      "51                        162   even  \n",
      "53                        179   even  \n",
      "55                        183   even  \n",
      "57                        211   even  \n",
      "59                        180   even  \n",
      "61                        189   even  \n",
      "63                        195   even  \n",
      "65                        169   even  \n",
      "67                        201   even  \n",
      "69                        163   even  \n",
      "71                        186   even  \n",
      "73                        204   even  \n",
      "75                        191   even  \n",
      "77                        170   even  \n",
      "79                        205   even  \n",
      "81                        199   even  \n",
      "83                        193   even  \n",
      "85                        194   even  \n",
      "87                        184   even  \n",
      "89                        165   even  \n",
      "91                        196   even  \n",
      "93                        171   even  \n",
      "95                        165   even  \n",
      "97                        176   even  \n",
      "99                        161   even  \n"
     ]
    }
   ],
   "source": [
    "# ----------------------------Task 4 -----------------------------\n",
    "# Import library\n",
    "import pandas as pd\n",
    "\n",
    "# Import exercise_data \n",
    "data = pd.read_csv('exercise_data.csv')\n",
    "\n",
    "# Define odd and even values\n",
    "def parity(x):\n",
    "    # if x has a 0 remainder then it is even\n",
    "    if x % 2 == 0:\n",
    "        parity = 'even'\n",
    "    # anything else then it is odd\n",
    "    else: \n",
    "        parity = 'odd'\n",
    "    return parity\n",
    "\n",
    "# Apply parity of the data on a new column\n",
    "data['Parity'] = data['Participant ID'].apply(parity)\n",
    "# Create a variable to place the even parity \n",
    "evenParity = data[data['Parity'] == 'even']\n",
    "\n",
    "# Print out the Participants with even parity\n",
    "print(evenParity)\n",
    "\n",
    "# Export Even parities to a csv file\n",
    "evenParity.to_csv('even_parity.csv', index=False)"
   ]
  },
  {
   "cell_type": "markdown",
   "metadata": {},
   "source": [
    "Task 5: Monthly Blood Pressure Change\n",
    "- Assume blood pressure measurements were taken monthly\n",
    "- Compute and print average change in blood pressure for each group\n",
    "\n"
   ]
  },
  {
   "cell_type": "code",
   "execution_count": 14,
   "metadata": {},
   "outputs": [
    {
     "name": "stdout",
     "output_type": "stream",
     "text": [
      "JOGGING Exercise Group:\n",
      "BEFORE EXERCISE:\n",
      "Mean: 122.33333333333333\n",
      "Average Difference: -0.23684210526315788\n",
      "AFTER EXERCISE:\n",
      "Mean: 186.84615384615384\n",
      "Average Difference: -0.5263157894736842\n",
      "\n",
      "WEIGHTLIFTING Exercise Group:\n",
      "BEFORE EXERCISE:\n",
      "Mean: 123.6470588235294\n",
      "Average Difference: 0.8181818181818182\n",
      "AFTER EXERCISE:\n",
      "Mean: 191.94117647058823\n",
      "Average Difference: -1.5454545454545454\n",
      "\n",
      "YOGA Exercise Group:\n",
      "BEFORE EXERCISE:\n",
      "Mean: 114.18518518518519\n",
      "Average Difference: 0.8846153846153846\n",
      "AFTER EXERCISE:\n",
      "Mean: 186.33333333333334\n",
      "Average Difference: -0.7692307692307693\n",
      "\n"
     ]
    }
   ],
   "source": [
    "# Import library\n",
    "import pandas as pd\n",
    "\n",
    "# Read the dataset from the CSV file\n",
    "exercise = pd.read_csv('exercise_data.csv')\n",
    "\n",
    "# Define a function to that calculates the mean and average difference\n",
    "# It's parameter has to take in the exercise group\n",
    "def mean_and_meanDiff(exercise_group):\n",
    "    # Retrieve the exercise for grouping\n",
    "    group_data = exercise[exercise['Exercise Group']== exercise_group]\n",
    "\n",
    "    # Calculate the average of all the Pre-exercise BP in the exercise group\n",
    "    pre_bp_mean = group_data['Pre-exercise Systolic BP'].mean()\n",
    "    # Calculate the average of all the Pre-exercise BP in the exercise group\n",
    "    pre_bp_diff = group_data['Pre-exercise Systolic BP'].diff().mean()\n",
    "\n",
    "    # Calculate the average of all the Post-exercise BP in the exercise group\n",
    "    post_bp_mean = group_data['Post-exercise Systolic BP'].mean()\n",
    "    # Calculate the average difference of all the Pre-exercise BP in the exercise group\n",
    "    post_bp_diff = group_data['Post-exercise Systolic BP'].diff().mean()\n",
    "\n",
    "    # Display the pre and post exercise mean and mean difference\n",
    "    print(f'{exercise_group.upper()} Exercise Group:' )\n",
    "    print('BEFORE EXERCISE:')\n",
    "    print('Mean:', pre_bp_mean)\n",
    "    print('Average Difference:', pre_bp_diff)\n",
    "    print('AFTER EXERCISE:')\n",
    "    print('Mean:', post_bp_mean)\n",
    "    print('Average Difference:', post_bp_diff)\n",
    "    print()\n",
    "\n",
    "# Call out the function with their exercise group\n",
    "mean_and_meanDiff('jogging')\n",
    "mean_and_meanDiff('weightlifting')\n",
    "mean_and_meanDiff('yoga')"
   ]
  },
  {
   "cell_type": "markdown",
   "metadata": {},
   "source": [
    "Task 6: Compare Pre and Post Exercise Blood Pressure\n",
    "- Takes Pre and Post systolic blood pressure\n",
    "- Returns New list representing their differences"
   ]
  },
  {
   "cell_type": "code",
   "execution_count": 15,
   "metadata": {},
   "outputs": [
    {
     "name": "stdout",
     "output_type": "stream",
     "text": [
      "0      64\n",
      "1     116\n",
      "2      81\n",
      "3      88\n",
      "4      55\n",
      "     ... \n",
      "95     22\n",
      "96    104\n",
      "97     53\n",
      "98     38\n",
      "99     39\n",
      "Name: BP Difference, Length: 100, dtype: int64\n"
     ]
    }
   ],
   "source": [
    "# Import Library\n",
    "import pandas as pd\n",
    "\n",
    "# Read file using panda\n",
    "data = pd.read_csv('exercise_data.csv')\n",
    "\n",
    "# Create a BP Difference by subtracting post BP to Pre BP\n",
    "data['BP Difference'] = data['Post-exercise Systolic BP'] - data['Pre-exercise Systolic BP']\n",
    "\n",
    "# Export the data with the addition of the difference column back to the csv file\n",
    "data.to_csv('exercise_data.csv', index=False)\n",
    "\n",
    "# Print the BP Difference\n",
    "print(data['BP Difference'])"
   ]
  },
  {
   "cell_type": "markdown",
   "metadata": {},
   "source": [
    "Task 7: Total Blood Pressure Reduction for Each Exercise Group\n",
    "- Read CSV file\n",
    "- Compute the total blood Pressure reduction of each exercise group"
   ]
  },
  {
   "cell_type": "code",
   "execution_count": 16,
   "metadata": {},
   "outputs": [
    {
     "name": "stdout",
     "output_type": "stream",
     "text": [
      "Total Blood Pressure Reduction:\n",
      "Exercise Group\n",
      "jogging          2516\n",
      "weightlifting    2322\n",
      "yoga             1948\n",
      "dtype: int64\n"
     ]
    }
   ],
   "source": [
    "# Import Library\n",
    "import pandas as pd\n",
    "\n",
    "# Read file using panda\n",
    "data = pd.read_csv('exercise_data.csv')\n",
    "\n",
    "# Group the data by Exercise Group\n",
    "grouped = data.groupby('Exercise Group')\n",
    "\n",
    "# Calculate the total blood pressure reduction for each group\n",
    "# This sums up the post BP for each group and subract from th sum of pre BP for each group\n",
    "total_reduction = grouped['Post-exercise Systolic BP'].sum() - grouped['Pre-exercise Systolic BP'].sum() \n",
    "\n",
    "# Print the total blood pressure reduction\n",
    "print(\"Total Blood Pressure Reduction:\")\n",
    "print(total_reduction)\n"
   ]
  }
 ],
 "metadata": {
  "kernelspec": {
   "display_name": "Python 3",
   "language": "python",
   "name": "python3"
  },
  "language_info": {
   "codemirror_mode": {
    "name": "ipython",
    "version": 3
   },
   "file_extension": ".py",
   "mimetype": "text/x-python",
   "name": "python",
   "nbconvert_exporter": "python",
   "pygments_lexer": "ipython3",
   "version": "3.11.2"
  },
  "orig_nbformat": 4
 },
 "nbformat": 4,
 "nbformat_minor": 2
}
