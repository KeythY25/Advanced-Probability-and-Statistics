{
 "cells": [
  {
   "cell_type": "code",
   "execution_count": 1,
   "metadata": {},
   "outputs": [
    {
     "name": "stdout",
     "output_type": "stream",
     "text": [
      "    Grade   Z Score\n",
      "0      89  0.169058\n",
      "1      99  0.610080\n",
      "2      99  0.610080\n",
      "3      93  0.345467\n",
      "4      95  0.433671\n",
      "5      88  0.124956\n",
      "6      84 -0.051453\n",
      "7      93  0.345467\n",
      "8       5 -3.535522\n",
      "9      86  0.036752\n",
      "10     89  0.169058\n",
      "11     91  0.257263\n",
      "12      1 -3.711931\n",
      "13     94  0.389569\n",
      "14     90  0.213160\n",
      "15     84 -0.051453\n",
      "16     99  0.610080\n",
      "17     81 -0.183759\n",
      "18     93  0.345467\n",
      "19    100  0.654182\n",
      "20     94  0.389569\n",
      "21     83 -0.095555\n",
      "22     88  0.124956\n",
      "23     97  0.521875\n",
      "24     88  0.124956\n",
      "25     81 -0.183759\n",
      "26     96  0.477773\n",
      "27     95  0.433671\n",
      "28     82 -0.139657\n",
      "29     98  0.565978\n",
      "Mean: 85.16666666666667\n",
      "Median: 90.5\n"
     ]
    }
   ],
   "source": [
    "# Import libraries\n",
    "import numpy as np\n",
    "from scipy import stats\n",
    "import pandas as pd\n",
    "\n",
    "\n",
    "# Read the grade file\n",
    "data = pd.read_csv('grade.csv')\n",
    "# Create the dataframe from the data\n",
    "df = pd.DataFrame(data)\n",
    "\n",
    "# Create a z_score, this will help us see the outliers in the data\n",
    "z_scores = stats.zscore(df['Grade'])\n",
    "# Create a table labelled Z Score\n",
    "df['Z Score'] = z_scores\n",
    "\n",
    "# Create the array grades \n",
    "grades = np.array(df['Grade'])\n",
    "# Calculate the median \n",
    "median = np.median(data)\n",
    "# Calculate the mean\n",
    "mean = np.mean(data)\n",
    "\n",
    "# Print out dataframe, mean and median\n",
    "print(df)\n",
    "print(f'Mean: {mean}')\n",
    "print(f'Median: {median}')\n",
    "\n",
    "\n",
    "\n",
    "\n",
    "\n",
    "\n"
   ]
  }
 ],
 "metadata": {
  "kernelspec": {
   "display_name": "Python 3",
   "language": "python",
   "name": "python3"
  },
  "language_info": {
   "codemirror_mode": {
    "name": "ipython",
    "version": 3
   },
   "file_extension": ".py",
   "mimetype": "text/x-python",
   "name": "python",
   "nbconvert_exporter": "python",
   "pygments_lexer": "ipython3",
   "version": "3.11.2"
  },
  "orig_nbformat": 4
 },
 "nbformat": 4,
 "nbformat_minor": 2
}
